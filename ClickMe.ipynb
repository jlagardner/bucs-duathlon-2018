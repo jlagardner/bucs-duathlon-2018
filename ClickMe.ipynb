{
 "cells": [
  {
   "cell_type": "code",
   "execution_count": 1,
   "metadata": {},
   "outputs": [],
   "source": [
    "import pandas as pd\n",
    "import datetime\n",
    "import numpy as np\n",
    "import matplotlib.pyplot as plt\n",
    "import ipywidgets as widgets"
   ]
  },
  {
   "cell_type": "code",
   "execution_count": 2,
   "metadata": {},
   "outputs": [],
   "source": [
    "data = pd.read_csv(\"Results.csv\", sep=',',encoding='utf-8')\n",
    "\n",
    "fields = ['Pos','Bib No','Name','University','Time',\n",
    "          'Cat Pos', 'Gender','Gen Pos','Run 1','G/Pos',\n",
    "          'T1','Bike','G/Pos.1','T2','Run 2','G/Pos.2']\n",
    "\n",
    "oxnames = []\n",
    "oxidxs = []\n",
    "camidxs = []\n",
    "for idx in range(len(data)):\n",
    "    if data[\"University\"][idx] == 'OXFORD UNIVERSITY':\n",
    "        oxnames.append(data['Name'][idx])\n",
    "        oxidxs.append(idx)\n",
    "    elif data[\"University\"][idx] == 'UNIVERSITY OF CAMBRIDGE':\n",
    "        camidxs.append(idx)\n",
    "\n",
    "def secondCounter(timestr):\n",
    "    timestr = str(timestr)\n",
    "    if len(timestr) == 4:\n",
    "        s = int(timestr[0:2])\n",
    "    elif len(timestr) == 6:\n",
    "        s = int(timestr[0])*60+int(timestr[2:4])\n",
    "    elif len(timestr) == 7:\n",
    "        s = int(timestr[0:2])*60+int(timestr[3:5])\n",
    "    elif len(timestr) == 9:\n",
    "        s = int(timestr[0])*3600 + int(timestr[2:4])*60+int(timestr[5:7])\n",
    "    return s\n",
    "    \n",
    "    \n",
    "def colToSeconds(field):\n",
    "    dic = {}\n",
    "    for i in range(len(data)):\n",
    "        dic[i] = {field: secondCounter(data[field][i])}\n",
    "    \n",
    "    df = pd.DataFrame.from_dict(dic, \"index\")\n",
    "    \n",
    "    return df\n",
    "\n",
    "for field in [\"Run 1\", \"T1\", \"Bike\", \"T2\", \"Run 2\", \"Time\"]:\n",
    "    data[field] = colToSeconds(field)\n",
    "\n"
   ]
  },
  {
   "cell_type": "code",
   "execution_count": 80,
   "metadata": {},
   "outputs": [],
   "source": [
    "def getRightData(name):\n",
    "    idxs = []\n",
    "\n",
    "    myidx = list(np.where(data[\"Name\"] == name)[0])[0]\n",
    "    for i in range(min(100,len(data)-myidx)):\n",
    "        idxs.append(myidx+i-min(myidx//2,50))\n",
    "        \n",
    "    #idxs += oxidxs\n",
    "    #idxs += camidxs\n",
    "        \n",
    "    results = data[fields].iloc[idxs]\n",
    "    for field in [\"Run 1\",'T1', \"Bike\",'T2', \"Run 2\"]:\n",
    "        avg = results[field].mean()\n",
    "        results[field] = avg - results[field]\n",
    "    \n",
    "    \n",
    "    results[\"Total after T1\"] = results[\"Run 1\"] + results[\"T1\"]\n",
    "    results[\"Total after Bike\"] = results[\"Total after T1\"] + results[\"Bike\"]\n",
    "    results[\"Total after T2\"] = results[\"Total after Bike\"] + results[\"T2\"]\n",
    "    results[\"Total after Run 2\"] = results[\"Total after T2\"] + results[\"Run 2\"]\n",
    "\n",
    "    myfigures(name, idxs, results)\n",
    "\n",
    "def myfigures(name,idxs, results):\n",
    "    \n",
    "    x = [\"Start\",\"End of Run 1\",'End of T1', \"End of Bike\",'End of T2', \"End of Run 2\"]\n",
    "    \n",
    "    inds = [0,10,14,30,34,44]\n",
    "\n",
    "    plt.figure(4, figsize=(15,10))\n",
    "    plt.title(\"Race Time\")\n",
    "    plt.ylabel(\"Time ahead relative to average\")\n",
    "    for idx in idxs:\n",
    "        y = [0,results['Run 1'][idx], results['Total after T1'][idx], \n",
    "             results[\"Total after Bike\"][idx], results['Total after T2'][idx], \n",
    "             results[\"Total after Run 2\"][idx]]\n",
    "        if results['Name'][idx] == name:\n",
    "            plt.plot(inds,y,'red',linewidth=1)\n",
    "        elif results[\"University\"][idx] == \"OXFORD UNIVERSITY\":\n",
    "            plt.plot(inds,y,'navy',linewidth=1)\n",
    "        elif results[\"University\"][idx] == \"UNIVERSITY OF CAMBRIDGE\":\n",
    "            plt.plot(inds,y,'#A3C1AD',linewidth=1)\n",
    "        else:\n",
    "            plt.plot(inds,y,'gray', alpha=0.1,linewidth=1)\n",
    "            \n",
    "    x1, y1 = [inds[1], inds[1]], [-150, 150]\n",
    "    plt.plot(x1, y1,'k', ':',linewidth=0.5)\n",
    "    x2, y2 = [inds[2], inds[2]], [-150, 150]\n",
    "    plt.plot(x2, y2,'k', ':',linewidth=0.5)\n",
    "    x3, y3 = [inds[3], inds[3]], [-150, 150]\n",
    "    plt.plot(x3, y3,'k', ':',linewidth=0.5)\n",
    "    x4, y4 = [inds[4], inds[4]], [-150, 150]\n",
    "    plt.plot(x4, y4,'k', ':',linewidth=0.5)\n",
    "    plt.xticks(inds, x)\n",
    "    plt.show()\n",
    "    \n",
    "    plt.figure(3, figsize=(15,10))\n",
    "    for idx in idxs:\n",
    "        y = [0,results['Run 1'][idx], results['T1'][idx]*10, \n",
    "             results[\"Bike\"][idx], results['T2'][idx]*10, results[\"Run 2\"][idx]]\n",
    "        if results['Name'][idx] == name:\n",
    "            plt.plot(inds,y,'red',linewidth=1)\n",
    "        elif results[\"University\"][idx] == \"OXFORD UNIVERSITY\":\n",
    "            plt.plot(inds,y,'navy',linewidth=1)\n",
    "        elif results[\"University\"][idx] == \"UNIVERSITY OF CAMBRIDGE\":\n",
    "            plt.plot(inds,y,'#A3C1AD',linewidth=1)\n",
    "        else:\n",
    "            plt.plot(inds,y,'gray', alpha=0.1,linewidth=1)\n",
    "    plt.ylabel(\"Arbitraty measure of performance\")\n",
    "    plt.title(\"Individual discipline times\")\n",
    "    plt.xticks(inds, x)\n",
    "    x1, y1 = [inds[1], inds[1]], [-300, 150]\n",
    "    plt.plot(x1, y1,'k', ':',linewidth=0.5)\n",
    "    x2, y2 = [inds[2], inds[2]], [-300, 150]\n",
    "    plt.plot(x2, y2,'k', ':',linewidth=0.5)\n",
    "    x3, y3 = [inds[3], inds[3]], [-300, 150]\n",
    "    plt.plot(x3, y3,'k', ':',linewidth=0.5)\n",
    "    x4, y4 = [inds[4], inds[4]], [-300, 150]\n",
    "    plt.plot(x4, y4,'k', ':',linewidth=0.5)\n",
    "    plt.show()\n",
    "\n",
    "   \n",
    "\n",
    "\n",
    "\n"
   ]
  },
  {
   "cell_type": "markdown",
   "metadata": {},
   "source": [
    "\n",
    "How to interpret the graphs:\n",
    "\n",
    "1. A flat line = average performance (of the 100 athletes around you). Positive gradient = better, negative = worse\n",
    "\n",
    "2. Height of point = performance for that particular part of the race: e.g. select Mat Veal - a great bike, a bad T2"
   ]
  },
  {
   "cell_type": "code",
   "execution_count": 81,
   "metadata": {
    "scrolled": false
   },
   "outputs": [
    {
     "data": {
      "application/vnd.jupyter.widget-view+json": {
       "model_id": "62361629e77d4dbdb45a93574d17df17",
       "version_major": 2,
       "version_minor": 0
      },
      "text/plain": [
       "interactive(children=(Dropdown(description='name', options=('Joe BOWNESS', 'Luke GRENFELL-SHAW', 'Andres NOE',…"
      ]
     },
     "metadata": {},
     "output_type": "display_data"
    }
   ],
   "source": [
    "widgets.interact(getRightData, name=oxnames);"
   ]
  },
  {
   "cell_type": "code",
   "execution_count": null,
   "metadata": {},
   "outputs": [],
   "source": []
  },
  {
   "cell_type": "code",
   "execution_count": 36,
   "metadata": {},
   "outputs": [
    {
     "data": {
      "image/png": "[encoded data removed]",
      "text/plain": [
       "<Figure size 432x288 with 1 Axes>"
      ]
     },
     "metadata": {
      "needs_background": "light"
     },
     "output_type": "display_data"
    }
   ],
   "source": [
    "idxs=[0,1,2,3,4]\n",
    "disciplines = [\"Run 1\",\"T1\",\"Bike\",\"T2\",\"Run 2\"]\n",
    "names=data[\"Name\"].iloc[idxs]\n",
    "toplot = data[disciplines].iloc[idxs]\n",
    "#for d in disciplines:\n",
    "#    toplot[d] = toplot[d] / toplot[d].mean()\n",
    "toplot['1+2'] = toplot[\"Run 1\"] + toplot[\"T1\"]\n",
    "toplot['1+2+3'] = toplot[\"Bike\"] + toplot[\"1+2\"]\n",
    "toplot['1+2+3+4'] = toplot[\"T2\"] + toplot[\"1+2+3\"]\n",
    "toplot['1+2+3+4+5'] = toplot[\"Run 2\"] + toplot[\"1+2+3+4\"]\n",
    "N = len(idxs)\n",
    "\n",
    "\n",
    "\n",
    "    \n",
    "menMeans = (20, 35, 30, 35, 27)\n",
    "womenMeans = (25, 32, 34, 20, 25)\n",
    "menStd = (2, 3, 4, 1, 2)\n",
    "womenStd = (3, 5, 2, 3, 3)\n",
    "\n",
    "    \n",
    "ind = np.arange(N)    # the x locations for the groups\n",
    "width = 0.35       # the width of the bars: can also be len(x) sequence\n",
    "\n",
    "p1 = plt.bar(ind, toplot[\"Run 1\"], width)\n",
    "p2 = plt.bar(ind, toplot[\"T1\"], width,\n",
    "             bottom=toplot[\"Run 1\"])\n",
    "p3 = plt.bar(ind, toplot['Bike'], width,\n",
    "             bottom=toplot[\"1+2\"])\n",
    "p4 = plt.bar(ind, toplot['T2'], width,\n",
    "             bottom=toplot[\"1+2+3\"])\n",
    "p5 = plt.bar(ind, toplot['Run 2'], width,\n",
    "             bottom=toplot[\"1+2+3+4\"])\n",
    "p6 = plt.plot(ind,toplot[\"Run 1\"], 'black', linewidth=0.5)\n",
    "p7 = plt.plot(ind,toplot[\"1+2\"], 'black', linewidth=0.5)\n",
    "p8 = plt.plot(ind,toplot[\"1+2+3\"], 'black', linewidth=0.5)\n",
    "\n",
    "plt.ylabel('Total seconds')\n",
    "plt.title('Scores by group and gender')\n",
    "plt.xticks(ind, names)\n",
    "#plt.yticks(np.arange(0, 81, 10))\n",
    "plt.legend((p1[0], p2[0]), ('Men', 'Women'))\n",
    "\n",
    "plt.show()"
   ]
  },
  {
   "cell_type": "code",
   "execution_count": null,
   "metadata": {},
   "outputs": [],
   "source": []
  }
 ],
 "metadata": {
  "kernelspec": {
   "display_name": "Python 3",
   "language": "python",
   "name": "python3"
  },
  "language_info": {
   "codemirror_mode": {
    "name": "ipython",
    "version": 3
   },
   "file_extension": ".py",
   "mimetype": "text/x-python",
   "name": "python",
   "nbconvert_exporter": "python",
   "pygments_lexer": "ipython3",
   "version": "3.7.0"
  }
 },
 "nbformat": 4,
 "nbformat_minor": 2
}
