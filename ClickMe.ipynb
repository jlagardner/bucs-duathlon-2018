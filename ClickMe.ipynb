{
 "cells": [
  {
   "cell_type": "code",
   "execution_count": 136,
   "metadata": {},
   "outputs": [],
   "source": [
    "import pandas as pd\n",
    "import datetime\n",
    "import numpy as np\n",
    "import matplotlib.pyplot as plt\n",
    "import ipywidgets as widgets"
   ]
  },
  {
   "cell_type": "code",
   "execution_count": 137,
   "metadata": {},
   "outputs": [],
   "source": [
    "data = pd.read_csv(\"Results.csv\", sep=',',encoding='utf-8')\n",
    "\n",
    "fields = ['Pos','Bib No','Name','University','Time',\n",
    "          'Cat Pos', 'Gender','Gen Pos','Run 1','G/Pos',\n",
    "          'T1','Bike','G/Pos.1','T2','Run 2','G/Pos.2']\n",
    "\n",
    "oxnames = []\n",
    "oxidxs = []\n",
    "camidxs = []\n",
    "for idx in range(len(data)):\n",
    "    if data[\"University\"][idx] == 'OXFORD UNIVERSITY':\n",
    "        oxnames.append(data['Name'][idx])\n",
    "        oxidxs.append(idx)\n",
    "    elif data[\"University\"][idx] == 'UNIVERSITY OF CAMBRIDGE':\n",
    "        camidxs.append(idx)\n",
    "\n",
    "def secondCounter(timestr):\n",
    "    timestr = str(timestr)\n",
    "    if len(timestr) == 4:\n",
    "        s = int(timestr[0:2])\n",
    "    elif len(timestr) == 6:\n",
    "        s = int(timestr[0])*60+int(timestr[2:4])\n",
    "    elif len(timestr) == 7:\n",
    "        s = int(timestr[0:2])*60+int(timestr[3:5])\n",
    "    elif len(timestr) == 9:\n",
    "        s = int(timestr[0])*3600 + int(timestr[2:4])*60+int(timestr[5:7])\n",
    "    return s\n",
    "    \n",
    "    \n",
    "def colToSeconds(field):\n",
    "    dic = {}\n",
    "    for i in range(len(data)):\n",
    "        dic[i] = {field: secondCounter(data[field][i])}\n",
    "    \n",
    "    df = pd.DataFrame.from_dict(dic, \"index\")\n",
    "    \n",
    "    return df\n",
    "\n",
    "for field in [\"Run 1\", \"T1\", \"Bike\", \"T2\", \"Run 2\", \"Time\"]:\n",
    "    data[field] = colToSeconds(field)\n",
    "\n"
   ]
  },
  {
   "cell_type": "code",
   "execution_count": 165,
   "metadata": {},
   "outputs": [],
   "source": [
    "def getRightData(name):\n",
    "    idxs = []\n",
    "\n",
    "    myidx = list(np.where(data[\"Name\"] == name)[0])[0]\n",
    "    for i in range(min(100,len(data)-myidx)):\n",
    "        idxs.append(myidx+i-min(myidx//2,50))\n",
    "        \n",
    "    #idxs += oxidxs\n",
    "    #idxs += camidxs\n",
    "        \n",
    "    results = data[fields].iloc[idxs]\n",
    "    for field in [\"Run 1\",'T1', \"Bike\",'T2', \"Run 2\"]:\n",
    "        avg = results[field].mean()\n",
    "        results[field] = avg - results[field]\n",
    "    \n",
    "    \n",
    "    results[\"Total after T1\"] = results[\"Run 1\"] + results[\"T1\"]\n",
    "    results[\"Total after Bike\"] = results[\"Total after T1\"] + results[\"Bike\"]\n",
    "    results[\"Total after T2\"] = results[\"Total after Bike\"] + results[\"T2\"]\n",
    "    results[\"Total after Run 2\"] = results[\"Total after T2\"] + results[\"Run 2\"]\n",
    "\n",
    "    myfigures(name, idxs, results)\n",
    "\n",
    "def myfigures(name,idxs, results):\n",
    "    \n",
    "    x = [\"Start\",\"End of Run 1\",'End of T1', \"End of Bike\",'End of T2', \"End of Run 2\"]\n",
    "    \n",
    "    \n",
    "\n",
    "    plt.figure(4, figsize=(15,10))\n",
    "    plt.title(\"Race Time\")\n",
    "    plt.ylabel(\"Time ahead relative to average\")\n",
    "    for idx in idxs:\n",
    "        y = [0,results['Run 1'][idx], results['Total after T1'][idx], \n",
    "             results[\"Total after Bike\"][idx], results['Total after T2'][idx], \n",
    "             results[\"Total after Run 2\"][idx]]\n",
    "        if results['Name'][idx] == name:\n",
    "            plt.plot(x,y,'red',linewidth=1)\n",
    "        elif results[\"University\"][idx] == \"OXFORD UNIVERSITY\":\n",
    "            plt.plot(x,y,'navy',linewidth=1)\n",
    "        elif results[\"University\"][idx] == \"UNIVERSITY OF CAMBRIDGE\":\n",
    "            plt.plot(x,y,'#A3C1AD',linewidth=1)\n",
    "        else:\n",
    "            plt.plot(x,y,'gray', alpha=0.1,linewidth=1)\n",
    "    plt.show()\n",
    "    \n",
    "    plt.figure(3, figsize=(15,10))\n",
    "    for idx in idxs:\n",
    "        y = [0,results['Run 1'][idx], results['T1'][idx]*10, \n",
    "             results[\"Bike\"][idx], results['T2'][idx]*10, results[\"Run 2\"][idx]]\n",
    "        if results['Name'][idx] == name:\n",
    "            plt.plot(x,y,'red',linewidth=1)\n",
    "        elif results[\"University\"][idx] == \"OXFORD UNIVERSITY\":\n",
    "            plt.plot(x,y,'navy',linewidth=1)\n",
    "        elif results[\"University\"][idx] == \"UNIVERSITY OF CAMBRIDGE\":\n",
    "            plt.plot(x,y,'#A3C1AD',linewidth=1)\n",
    "        else:\n",
    "            plt.plot(x,y,'gray', alpha=0.1,linewidth=1)\n",
    "    plt.ylabel(\"Arbitraty measure of performance\")\n",
    "    plt.title(\"Individual discipline times\")\n",
    "    plt.show()\n",
    "\n",
    "   \n",
    "\n",
    "\n",
    "\n"
   ]
  },
  {
   "cell_type": "code",
   "execution_count": 166,
   "metadata": {
    "scrolled": false
   },
   "outputs": [
    {
     "data": {
      "application/vnd.jupyter.widget-view+json": {
       "model_id": "99e2e4a4da7d4ba08f6bb3f659613708",
       "version_major": 2,
       "version_minor": 0
      },
      "text/plain": [
       "interactive(children=(Dropdown(description='name', options=('Joe BOWNESS', 'Luke GRENFELL-SHAW', 'Andres NOE',…"
      ]
     },
     "metadata": {},
     "output_type": "display_data"
    },
    {
     "data": {
      "text/plain": [
       "'\\nHow to interpret the graphs:\\n\\n1. A flat line = average performance (of the 100 athletes around you). Positive gradient = better, negative = worse\\n\\n2. Height of point = performance for that particular part of the race: e.g. select Mat Veal - a great bike, a bad T2\\n'"
      ]
     },
     "execution_count": 166,
     "metadata": {},
     "output_type": "execute_result"
    }
   ],
   "source": [
    "widgets.interact(getRightData, name=oxnames);\n",
    "\n",
    "'''\n",
    "How to interpret the graphs:\n",
    "\n",
    "1. A flat line = average performance (of the 100 athletes around you). Positive gradient = better, negative = worse\n",
    "\n",
    "2. Height of point = performance for that particular part of the race: e.g. select Mat Veal - a great bike, a bad T2\n",
    "'''"
   ]
  },
  {
   "cell_type": "code",
   "execution_count": null,
   "metadata": {},
   "outputs": [],
   "source": []
  }
 ],
 "metadata": {
  "kernelspec": {
   "display_name": "Python 3",
   "language": "python",
   "name": "python3"
  },
  "language_info": {
   "codemirror_mode": {
    "name": "ipython",
    "version": 3
   },
   "file_extension": ".py",
   "mimetype": "text/x-python",
   "name": "python",
   "nbconvert_exporter": "python",
   "pygments_lexer": "ipython3",
   "version": "3.7.0"
  }
 },
 "nbformat": 4,
 "nbformat_minor": 2
}
